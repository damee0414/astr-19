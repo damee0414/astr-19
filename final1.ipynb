{
 "cells": [
  {
   "cell_type": "code",
   "execution_count": 2,
   "id": "799454b1",
   "metadata": {},
   "outputs": [],
   "source": [
    "import numpy as np\n",
    "import sep"
   ]
  },
  {
   "cell_type": "markdown",
   "id": "b0238611",
   "metadata": {},
   "source": [
    "additional setup for reading the test image and displaying plots by using astropy"
   ]
  },
  {
   "cell_type": "code",
   "execution_count": 11,
   "id": "ea672fec",
   "metadata": {},
   "outputs": [
    {
     "ename": "RuntimeError",
     "evalue": "module compiled against API version 0xe but this version of numpy is 0xd",
     "output_type": "error",
     "traceback": [
      "\u001b[1;31m---------------------------------------------------------------------------\u001b[0m",
      "\u001b[1;31mRuntimeError\u001b[0m                              Traceback (most recent call last)",
      "\u001b[1;31mRuntimeError\u001b[0m: module compiled against API version 0xe but this version of numpy is 0xd"
     ]
    },
    {
     "ename": "ImportError",
     "evalue": "erfa version 1.7 or later must be installed to use Astropy. erfa is not installed.",
     "output_type": "error",
     "traceback": [
      "\u001b[1;31m---------------------------------------------------------------------------\u001b[0m",
      "\u001b[1;31mImportError\u001b[0m                               Traceback (most recent call last)",
      "\u001b[1;32m<ipython-input-11-164362aac8d2>\u001b[0m in \u001b[0;36m<module>\u001b[1;34m\u001b[0m\n\u001b[1;32m----> 1\u001b[1;33m \u001b[1;32mimport\u001b[0m \u001b[0mastropy\u001b[0m\u001b[1;33m\u001b[0m\u001b[1;33m\u001b[0m\u001b[0m\n\u001b[0m\u001b[0;32m      2\u001b[0m \u001b[1;32mimport\u001b[0m \u001b[0mmatplotlib\u001b[0m\u001b[1;33m.\u001b[0m\u001b[0mpyplot\u001b[0m \u001b[1;32mas\u001b[0m \u001b[0mplt\u001b[0m\u001b[1;33m\u001b[0m\u001b[1;33m\u001b[0m\u001b[0m\n\u001b[0;32m      3\u001b[0m \u001b[1;32mfrom\u001b[0m \u001b[0mmatplotlib\u001b[0m \u001b[1;32mimport\u001b[0m \u001b[0mrcParams\u001b[0m\u001b[1;33m\u001b[0m\u001b[1;33m\u001b[0m\u001b[0m\n\u001b[0;32m      4\u001b[0m \u001b[1;33m\u001b[0m\u001b[0m\n\u001b[0;32m      5\u001b[0m \u001b[0mget_ipython\u001b[0m\u001b[1;33m(\u001b[0m\u001b[1;33m)\u001b[0m\u001b[1;33m.\u001b[0m\u001b[0mrun_line_magic\u001b[0m\u001b[1;33m(\u001b[0m\u001b[1;34m'matplotlib'\u001b[0m\u001b[1;33m,\u001b[0m \u001b[1;34m'inline'\u001b[0m\u001b[1;33m)\u001b[0m\u001b[1;33m\u001b[0m\u001b[1;33m\u001b[0m\u001b[0m\n",
      "\u001b[1;32m~\\anaconda3\\lib\\site-packages\\astropy\\__init__.py\u001b[0m in \u001b[0;36m<module>\u001b[1;34m\u001b[0m\n\u001b[0;32m     90\u001b[0m \u001b[1;33m\u001b[0m\u001b[0m\n\u001b[0;32m     91\u001b[0m \u001b[0m_check_requirement\u001b[0m\u001b[1;33m(\u001b[0m\u001b[1;34m'numpy'\u001b[0m\u001b[1;33m,\u001b[0m \u001b[0m__minimum_numpy_version__\u001b[0m\u001b[1;33m)\u001b[0m\u001b[1;33m\u001b[0m\u001b[1;33m\u001b[0m\u001b[0m\n\u001b[1;32m---> 92\u001b[1;33m \u001b[0m_check_requirement\u001b[0m\u001b[1;33m(\u001b[0m\u001b[1;34m'erfa'\u001b[0m\u001b[1;33m,\u001b[0m \u001b[0m__minimum_erfa_version__\u001b[0m\u001b[1;33m)\u001b[0m\u001b[1;33m\u001b[0m\u001b[1;33m\u001b[0m\u001b[0m\n\u001b[0m\u001b[0;32m     93\u001b[0m \u001b[1;33m\u001b[0m\u001b[0m\n\u001b[0;32m     94\u001b[0m \u001b[1;33m\u001b[0m\u001b[0m\n",
      "\u001b[1;32m~\\anaconda3\\lib\\site-packages\\astropy\\__init__.py\u001b[0m in \u001b[0;36m_check_requirement\u001b[1;34m(name, minimum_version)\u001b[0m\n\u001b[0;32m     84\u001b[0m         msg = (f\"{name} version {minimum_version} or later must \"\n\u001b[0;32m     85\u001b[0m                f\"be installed to use Astropy. {import_fail}\")\n\u001b[1;32m---> 86\u001b[1;33m         \u001b[1;32mraise\u001b[0m \u001b[0mImportError\u001b[0m\u001b[1;33m(\u001b[0m\u001b[0mmsg\u001b[0m\u001b[1;33m)\u001b[0m\u001b[1;33m\u001b[0m\u001b[1;33m\u001b[0m\u001b[0m\n\u001b[0m\u001b[0;32m     87\u001b[0m \u001b[1;33m\u001b[0m\u001b[0m\n\u001b[0;32m     88\u001b[0m     \u001b[1;32mreturn\u001b[0m \u001b[0mmodule\u001b[0m\u001b[1;33m\u001b[0m\u001b[1;33m\u001b[0m\u001b[0m\n",
      "\u001b[1;31mImportError\u001b[0m: erfa version 1.7 or later must be installed to use Astropy. erfa is not installed."
     ]
    }
   ],
   "source": [
    "import astropy.io.fits\n",
    "import matplotlib.pyplot as plt\n",
    "from matplotlib import rcParams\n",
    "\n",
    "%matplotlib inline\n",
    "\n",
    "rcParams['figure.figsize'] = [10., 8.]"
   ]
  },
  {
   "cell_type": "markdown",
   "id": "3a6688bd",
   "metadata": {},
   "source": [
    "read image into standard 2-d numpy array and show the image"
   ]
  },
  {
   "cell_type": "code",
   "execution_count": 12,
   "id": "cb2b7e43",
   "metadata": {},
   "outputs": [
    {
     "ename": "NameError",
     "evalue": "name 'astropy' is not defined",
     "output_type": "error",
     "traceback": [
      "\u001b[1;31m---------------------------------------------------------------------------\u001b[0m",
      "\u001b[1;31mNameError\u001b[0m                                 Traceback (most recent call last)",
      "\u001b[1;32m<ipython-input-12-53f2ea803ade>\u001b[0m in \u001b[0;36m<module>\u001b[1;34m\u001b[0m\n\u001b[1;32m----> 1\u001b[1;33m \u001b[0mdata\u001b[0m \u001b[1;33m=\u001b[0m \u001b[0mastropy\u001b[0m\u001b[1;33m.\u001b[0m\u001b[0mread\u001b[0m\u001b[1;33m(\u001b[0m\u001b[1;34m\"../data/image.fits\"\u001b[0m\u001b[1;33m)\u001b[0m\u001b[1;33m\u001b[0m\u001b[1;33m\u001b[0m\u001b[0m\n\u001b[0m",
      "\u001b[1;31mNameError\u001b[0m: name 'astropy' is not defined"
     ]
    }
   ],
   "source": [
    "data = fitsio.read(\"../data/image.fits\")"
   ]
  },
  {
   "cell_type": "code",
   "execution_count": null,
   "id": "ba551aaa",
   "metadata": {},
   "outputs": [],
   "source": [
    "m, s = np.mean(data), np.std(data)\n",
    "plt.imshow(data, interpolation='nearest', cmap='gray', vmin=m-s, vmax=m+s, origin='lower')\n",
    "plt.colorbar();"
   ]
  },
  {
   "cell_type": "code",
   "execution_count": null,
   "id": "617ce8f2",
   "metadata": {},
   "outputs": [],
   "source": [
    "# measure a spatially varying background on the image\n",
    "bkg = sep.Background(data)"
   ]
  },
  {
   "cell_type": "code",
   "execution_count": null,
   "id": "bb95cf4f",
   "metadata": {},
   "outputs": [],
   "source": [
    "# get a \"global\" mean and noise of the image background:\n",
    "print(bkg.globalback)\n",
    "print(bkg.globalrms)"
   ]
  },
  {
   "cell_type": "code",
   "execution_count": null,
   "id": "cc25b116",
   "metadata": {},
   "outputs": [],
   "source": [
    "# evaluate background as 2-d array, same size as original image\n",
    "bkg_image = bkg.back()\n",
    "# bkg_image = np.array(bkg) # equivalent to above"
   ]
  },
  {
   "cell_type": "code",
   "execution_count": null,
   "id": "c2dfa760",
   "metadata": {},
   "outputs": [],
   "source": [
    "# show the background\n",
    "plt.imshow(bkg_image, interpolation='nearest', cmap='gray', origin='lower')\n",
    "plt.colorbar();"
   ]
  },
  {
   "cell_type": "code",
   "execution_count": null,
   "id": "a4cd1c06",
   "metadata": {},
   "outputs": [],
   "source": [
    "# evaluate the background noise as 2-d array, same size as original image\n",
    "bkg_rms = bkg.rms()"
   ]
  },
  {
   "cell_type": "code",
   "execution_count": null,
   "id": "f34c332b",
   "metadata": {},
   "outputs": [],
   "source": [
    "# show the background noise\n",
    "plt.imshow(bkg_rms, interpolation='nearest', cmap='gray', origin='lower')\n",
    "plt.colorbar();"
   ]
  },
  {
   "cell_type": "code",
   "execution_count": null,
   "id": "ae6e3e71",
   "metadata": {},
   "outputs": [],
   "source": [
    "# subtract the background\n",
    "data_sub = data - bkg"
   ]
  },
  {
   "cell_type": "code",
   "execution_count": null,
   "id": "42767814",
   "metadata": {},
   "outputs": [],
   "source": [
    "objects = sep.extract(data_sub, 1.5, err=bkg.globalrms)"
   ]
  },
  {
   "cell_type": "code",
   "execution_count": null,
   "id": "dfba5af7",
   "metadata": {},
   "outputs": [],
   "source": [
    "# how many objects were detected\n",
    "len(objects)"
   ]
  },
  {
   "cell_type": "code",
   "execution_count": null,
   "id": "bcb7a51e",
   "metadata": {},
   "outputs": [],
   "source": [
    "from matplotlib.patches import Ellipse\n",
    "\n",
    "# plot background-subtracted image\n",
    "fig, ax = plt.subplots()\n",
    "m, s = np.mean(data_sub), np.std(data_sub)\n",
    "im = ax.imshow(data_sub, interpolation='nearest', cmap='gray',\n",
    "               vmin=m-s, vmax=m+s, origin='lower')\n",
    "\n",
    "# plot an ellipse for each object\n",
    "for i in range(len(objects)):\n",
    "    e = Ellipse(xy=(objects['x'][i], objects['y'][i]),\n",
    "                width=6*objects['a'][i],\n",
    "                height=6*objects['b'][i],\n",
    "                angle=objects['theta'][i] * 180. / np.pi)\n",
    "    e.set_facecolor('none')\n",
    "    e.set_edgecolor('red')\n",
    "    ax.add_artist(e)"
   ]
  },
  {
   "cell_type": "code",
   "execution_count": null,
   "id": "950919f5",
   "metadata": {},
   "outputs": [],
   "source": [
    "# available fields\n",
    "objects.dtype.names"
   ]
  },
  {
   "cell_type": "code",
   "execution_count": null,
   "id": "ffc485bb",
   "metadata": {},
   "outputs": [],
   "source": [
    "flux, fluxerr, flag = sep.sum_circle(data_sub, objects['x'], objects['y'],\n",
    "                                     3.0, err=bkg.globalrms, gain=1.0)"
   ]
  },
  {
   "cell_type": "code",
   "execution_count": null,
   "id": "2d48bdb3",
   "metadata": {},
   "outputs": [],
   "source": [
    "# show the first 10 objects results:\n",
    "for i in range(10):\n",
    "    print(\"object {:d}: flux = {:f} +/- {:f}\".format(i, flux[i], fluxerr[i]))"
   ]
  },
  {
   "cell_type": "code",
   "execution_count": null,
   "id": "a26abab4",
   "metadata": {},
   "outputs": [],
   "source": []
  }
 ],
 "metadata": {
  "kernelspec": {
   "display_name": "Python 3",
   "language": "python",
   "name": "python3"
  },
  "language_info": {
   "codemirror_mode": {
    "name": "ipython",
    "version": 3
   },
   "file_extension": ".py",
   "mimetype": "text/x-python",
   "name": "python",
   "nbconvert_exporter": "python",
   "pygments_lexer": "ipython3",
   "version": "3.8.8"
  }
 },
 "nbformat": 4,
 "nbformat_minor": 5
}
